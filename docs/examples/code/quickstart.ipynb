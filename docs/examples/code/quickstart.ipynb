{
 "cells": [
  {
   "cell_type": "markdown",
   "metadata": {},
   "source": [
    "# Quickstart\n",
    "\n",
    "Inspired by the PyTorch [example](https://pytorch.org/tutorials/beginner/basics/quickstart_tutorial.html) of the same name, we go through a simple example of implementing a model and a training/testing loop."
   ]
  },
  {
   "cell_type": "markdown",
   "metadata": {},
   "source": [
    "## Prerequisites\n",
    "\n",
    "This tutorial requires Inferno (and its dependencies, including PyTorch) and TorchVision for working with the dataset. We'll start with the necessary import statements."
   ]
  },
  {
   "cell_type": "code",
   "execution_count": null,
   "metadata": {},
   "outputs": [],
   "source": [
    "import inferno\n",
    "import torch\n",
    "from inferno import functional, neural, learn\n",
    "from torch.utils.data import DataLoader\n",
    "from torchvision.datasets import MNIST\n",
    "from torchvision.transforms.v2 import Compose, ToImage, ToDtype, Lambda"
   ]
  },
  {
   "cell_type": "markdown",
   "metadata": {},
   "source": [
    "Then we set some values used throughout this example."
   ]
  },
  {
   "cell_type": "code",
   "execution_count": null,
   "metadata": {},
   "outputs": [],
   "source": [
    "shape = (10, 10)\n",
    "step_time = 1.0\n",
    "batch_size = 20\n",
    "\n",
    "if torch.cuda.is_available():\n",
    "    device = \"cuda\"\n",
    "elif torch.backends.mps.is_available():\n",
    "    device = \"mps\"\n",
    "else:\n",
    "    device = \"cpu\"\n",
    "\n",
    "print(f\"using device: {device}\\n\")"
   ]
  },
  {
   "cell_type": "markdown",
   "metadata": {},
   "source": [
    "## Retrieving and Loading Data\n",
    "\n",
    "Inferno works directly with PyTorch, and therefore we can use the same methods to import and transform the data with which we want to work. Unlike with artificial neural networks, we'll need to convert each sample into a spike train. In this example, we'll be using [`HomogeneousPoissonEncoder`](https://docs.inferno-ai.dev/en/stable/reference/generated/inferno.neural.HomogeneousPoissonEncoder.html#inferno.neural.HomogeneousPoissonEncoder) which takes a tensor of floats in the range $[0, 1]$."
   ]
  },
  {
   "cell_type": "code",
   "execution_count": null,
   "metadata": {},
   "outputs": [],
   "source": [
    "train_set = MNIST(\n",
    "    root=\"data\",\n",
    "    train=True,\n",
    "    transform=Compose(\n",
    "        [\n",
    "            ToImage(),\n",
    "            ToDtype(torch.float32, scale=True),\n",
    "            Lambda(lambda x: x.squeeze(0)),\n",
    "        ],\n",
    "    ),\n",
    "    download=True,\n",
    ")\n",
    "\n",
    "test_set = MNIST(\n",
    "    root=\"data\",\n",
    "    train=False,\n",
    "    transform=Compose(\n",
    "        [\n",
    "            ToImage(),\n",
    "            ToDtype(torch.float32, scale=True),\n",
    "            Lambda(lambda x: x.squeeze(0)),\n",
    "        ],\n",
    "    ),\n",
    "    download=True,\n",
    ")\n",
    "\n",
    "train_data = DataLoader(train_set, batch_size=batch_size)\n",
    "test_data = DataLoader(test_set, batch_size=batch_size)"
   ]
  },
  {
   "cell_type": "markdown",
   "metadata": {},
   "source": [
    "In this example, we'll be classifying examples from the [MNIST](https://yann.lecun.com/exdb/mnist/) dataset of handwritten digits using a model based on the one described [here](https://www.frontiersin.org/journals/computational-neuroscience/articles/10.3389/fncom.2015.00099/full)."
   ]
  },
  {
   "cell_type": "markdown",
   "metadata": {},
   "source": [
    "## Constructing Neural Components\n",
    "\n",
    "Inferno divides the simulation of spiking neural networks into three basic types of components: neurons ([`Neuron`](https://docs.inferno-ai.dev/en/stable/reference/generated/inferno.neural.Neuron.html#inferno.neural.Neuron)), synapses ([`Synapse`](https://docs.inferno-ai.dev/en/stable/reference/generated/inferno.neural.Synapse.html#inferno.neural.Synapse)), and connections ([`Connection`](https://docs.inferno-ai.dev/en/stable/reference/generated/inferno.neural.Connection.html#inferno.neural.Connection)). We'll start with neurons, which consume real-valued input representing electrical current and produce boolean output representing action potentials (also called spikes). In terms of artificial neural networks, these serve a role similar to that of activation functions, but neuron models are generally far more complex. They are also stateful and need to maintain their state for each sample in a batch.\n",
    "\n",
    "Here we are creating two groups of neurons, `exc` and `inh`, which respectively correspond to an excitatory and an inhibitory group of neurons. The output of the model will come from the former, but the latter will be used to regulate it. The inhibitory group is made up of leaky-integrate and fire ([`LIF`](https://docs.inferno-ai.dev/en/stable/reference/generated/inferno.neural.LIF.html#inferno.neural.LIF)) neurons and the excitatory group is made up of adaptive leaky-integrate and fire ([`ALIF`](https://docs.inferno-ai.dev/en/stable/reference/generated/inferno.neural.ALIF.html#inferno.neural.ALIF)) neurons."
   ]
  },
  {
   "cell_type": "code",
   "execution_count": null,
   "metadata": {},
   "outputs": [],
   "source": [
    "exc = neural.ALIF(\n",
    "    shape,\n",
    "    step_time,\n",
    "    rest_v=-65.0,\n",
    "    reset_v=-60.0,\n",
    "    thresh_eq_v=-52.0,\n",
    "    refrac_t=5.0,\n",
    "    tc_membrane=100.0,\n",
    "    tc_adaptation=1e7,\n",
    "    spike_increment=0.05,\n",
    "    resistance=1.0,\n",
    "    batch_size=batch_size,\n",
    ")\n",
    "\n",
    "inh = neural.LIF(\n",
    "    shape,\n",
    "    step_time,\n",
    "    rest_v=-60.0,\n",
    "    reset_v=-45.0,\n",
    "    thresh_v=-40.0,\n",
    "    refrac_t=2.0,\n",
    "    time_constant=75.0,\n",
    "    resistance=1.0,\n",
    "    batch_size=batch_size,\n",
    ")"
   ]
  },
  {
   "cell_type": "markdown",
   "metadata": {},
   "source": [
    "Then connections take these boolean spikes and produce real-valued currents which have been transformed by some trainable mapping. The process of transforming spikes into currents is performed by synapses. Because certain internal properties of synapses depend upon properties of the connection with which they're associated, Inferno has synapses constructed by the connection and composed within it.\n",
    "\n",
    "Here we're creating three connections: `enc2exc`, `inh2exc`, and `exc2inh`—and are building a model similar to the one described in [this](https://www.frontiersin.org/journals/computational-neuroscience/articles/10.3389/fncom.2015.00099/full) paper. Each connection does the following.\n",
    "\n",
    "- `enc2exc`: trainable mapping from the encoded inputs to the excitatory neurons.\n",
    "- `inh2exc`: applies \"lateral inhibition\", where the firing of every excitatory neuron other than itself inhibits other excitatory neurons from firing.\n",
    "- `exc2inh`: triggers the lateral inhibition.\n",
    "\n",
    "In order to do this, we use the three different types of linear connections offered by Inferno. [`LinearDense`](https://docs.inferno-ai.dev/en/stable/reference/generated/inferno.neural.LinearDense.html#inferno.neural.LinearDense) acts exactly like a normal [`Linear`](https://pytorch.org/docs/stable/generated/torch.nn.Linear.html#linear) connection, providing a linear all-to-all mapping between inputs and outputs. [`LinearLateral`](https://docs.inferno-ai.dev/en/stable/reference/generated/inferno.neural.LinearLateral.html#inferno.neural.LinearLateral) masks the parameters along the diagonal with zeros, making an all-to-\"all but self\" mapping. [`LinearDirect`](https://docs.inferno-ai.dev/en/stable/reference/generated/inferno.neural.LinearDirect.html#inferno.neural.LinearDirect) provides a one-to-one mapping."
   ]
  },
  {
   "cell_type": "code",
   "execution_count": null,
   "metadata": {},
   "outputs": [],
   "source": [
    "enc2exc = neural.LinearDense(\n",
    "    (28, 28),\n",
    "    shape,\n",
    "    step_time,\n",
    "    synapse=neural.DeltaCurrent.partialconstructor(100.0),\n",
    "    weight_init=lambda x: inferno.rescale(inferno.uniform(x), 0.0, 0.3),\n",
    "    batch_size=batch_size,\n",
    ")\n",
    "\n",
    "inh2exc = neural.LinearLateral(\n",
    "    shape,\n",
    "    step_time,\n",
    "    synapse=neural.DeltaCurrent.partialconstructor(100.0),\n",
    "    weight_init=lambda x: inferno.full(x, -180.0),\n",
    "    batch_size=batch_size,\n",
    ")\n",
    "\n",
    "exc2inh = neural.LinearDirect(\n",
    "    shape,\n",
    "    step_time,\n",
    "    synapse=neural.DeltaCurrent.partialconstructor(75.0),\n",
    "    weight_init=lambda x: inferno.full(x, 22.5),\n",
    "    batch_size=batch_size,\n",
    ")"
   ]
  },
  {
   "cell_type": "markdown",
   "metadata": {},
   "source": [
    "## Creating the Model\n",
    "\n",
    "With all the separate components created, we can now put them together into a single model. Inferno models a set of connections and a set of neurons which take input from those connections with the\n",
    "[`Layer`](https://docs.inferno-ai.dev/en/stable/reference/generated/inferno.neural.Layer.html#inferno.neural.Layer) class. As in the model here, neuron groups can be shared across layers (connections normally will not be and care will need to be taken to avoid complications beyond the scope of this example, but Inferno doesn't explicitly prohibit it). The mapping between connections is customizable, although Inferno provides some common layer architectures for convenience. [`Serial`](https://docs.inferno-ai.dev/en/stable/reference/generated/inferno.neural.Serial.html#inferno.neural.Serial) maps a single connection to a single group of neurons.\n",
    "\n",
    "Implementing the `Model` class follows the normal PyTorch pattern. Here, we use the previously built components to create the layers. We then write the `forward()` function such that it takes in the tensor of spikes from the encoder, applies the inputs at each step, and returns the concatenated output. It will also update the connection if a trainer is passed in (more on this in the next section) and the module is in `training` mode."
   ]
  },
  {
   "cell_type": "code",
   "execution_count": null,
   "metadata": {},
   "outputs": [],
   "source": [
    "class Model(inferno.Module):\n",
    "\n",
    "    def __init__(self, exc, inh, enc2exc, inh2exc, exc2inh):\n",
    "\n",
    "        # call superclass constructor\n",
    "        inferno.Module.__init__(self)\n",
    "\n",
    "        # construct the layers\n",
    "        self.feedfwd = neural.Serial(enc2exc, exc)\n",
    "        self.inhibit = neural.Serial(inh2exc, exc)\n",
    "        self.trigger = neural.Serial(exc2inh, inh)\n",
    "\n",
    "    def forward(self, inputs, trainer=None):\n",
    "        # clears the model state\n",
    "        def clear(m):\n",
    "            if isinstance(m, neural.Neuron | neural.Connection):\n",
    "                m.clear()\n",
    "\n",
    "        # compute for each time step\n",
    "        def step(x):\n",
    "\n",
    "            # inference\n",
    "            res = self.feedfwd(x)\n",
    "            _ = self.inhibit(self.trigger(res))\n",
    "\n",
    "            # training\n",
    "            if self.training and trainer:\n",
    "                trainer()\n",
    "                self.feedfwd.connection.update()\n",
    "\n",
    "            return res\n",
    "\n",
    "        res = torch.stack([step(x) for x in inputs], dim=0)\n",
    "        self.apply(clear)\n",
    "\n",
    "        return res\n",
    "\n",
    "model = Model(exc, inh, enc2exc, inh2exc, exc2inh)\n",
    "model.to(device=device)"
   ]
  },
  {
   "cell_type": "markdown",
   "metadata": {},
   "source": [
    "While this model is being trained, we will want to keep the weights of `enc2exc` normalized such that the $\\ell_1$-norm of the weight vector corresponding to each output has a fixed value. Inferno extends PyTorch's _forward hooks_. While custom hooks can still be set with [`register_forward_hook`](https://pytorch.org/docs/stable/generated/torch.nn.Module.html#torch.nn.Module.register_forward_hook) and [`register_forward_pre_hook`](https://pytorch.org/docs/stable/generated/torch.nn.Module.html#torch.nn.Module.register_forward_pre_hook), Inferno provides a [`Hook`](https://docs.inferno-ai.dev/en/stable/reference/generated/inferno.Hook.html#inferno.Hook) class along with multiple extensions for managing forward hooks. Hooks can be set to trigger conditionally based on if the module is in `training` mode, which is set with `train` and `eval`. Here, we'll normalize the weights when training only (since the weights won't change during inference)."
   ]
  },
  {
   "cell_type": "code",
   "execution_count": null,
   "metadata": {},
   "outputs": [],
   "source": [
    "norm_hook = neural.Normalization(\n",
    "    model,\n",
    "    \"feedfwd.connection.weight\",\n",
    "    order=1,\n",
    "    scale=78.4,\n",
    "    dim=-1,\n",
    "    eval_update=False,\n",
    ")\n",
    "norm_hook.register()\n",
    "norm_hook()"
   ]
  },
  {
   "cell_type": "markdown",
   "metadata": {},
   "source": [
    "By default, [`Normalization`](https://docs.inferno-ai.dev/en/stable/reference/generated/inferno.neural.Normalization.html#inferno.neural.Normalization) (like every hook by convention), will run as a post hook (after [`forward`](https://pytorch.org/docs/stable/generated/torch.nn.Module.html#torch.nn.Module.forward) is run) and will run regardless of the `training` mode. Here, we're specifying that when `model.training` is `False`, the hook shouldn't be run. We're also configuring it such that `norm_hook` is a hook on `model`, so it is only run once per batch and not once per simulation step. The attribute on which the hook is applied can be specified using dot notation to target nested attributes. We then register the hook, so it will be called automatically. Finally, because `Normalization` is a [`StateHook`](https://docs.inferno-ai.dev/en/stable/reference/generated/inferno.StateHook.html#inferno.StateHook), we can call the hook to apply its transformation even without `model.forward()` being called."
   ]
  },
  {
   "cell_type": "markdown",
   "metadata": {},
   "source": [
    "## Configuring the Trainer\n",
    "\n",
    "Unlike in artificial neural networks where parameters are _optimized_, typically with a variant of gradient descent, parameters in spiking neural networks are trained using a variety of methods (including optimization). Inferno's development to date has focused on the use of plasticity rules such as [spike-timing dependent plasticity (STDP)](https://docs.inferno-ai.dev/en/stable/zoo/learning-stdp.html#spike-timing-dependent-plasticity-stdp).\n",
    "\n",
    "In this example, we will use [`STDP`](https://docs.inferno-ai.dev/en/stable/reference/generated/inferno.learn.STDP.html#inferno.learn.STDP) itself. When constructing `STDP`, it will take in a set of default hyperparameters which will apply to the training for each [`Connection`](https://docs.inferno-ai.dev/en/stable/reference/generated/inferno.neural.Cell.html#inferno.neural.Cell) we register with it, although it can be overridden on a cell-by-cell base. Inferno uses the concept of a `Cell` for defining the structure of a trainable model. Each cell represents a tuple of a `Connection` and a [`Neuron`](https://docs.inferno-ai.dev/en/stable/reference/generated/inferno.neural.Neuron.html#inferno.neural.Neuron), where the latter takes its output from the former.\n",
    "\n",
    "A limit imposed on cells is that the output shape, [`outshape`](https://docs.inferno-ai.dev/en/stable/reference/generated/inferno.neural.Connection.html#inferno.neural.Connection.outshape), of any connection must be the same as the [`shape`](https://docs.inferno-ai.dev/en/stable/reference/generated/inferno.neural.Neuron.html#inferno.neural.Neuron.shape) of the neurons. These are constructed by [`Layer`](https://docs.inferno-ai.dev/en/stable/reference/generated/inferno.neural.Layer.html#inferno.neural.Layer) classes, where [`Serial`](https://docs.inferno-ai.dev/en/stable/reference/generated/inferno.neural.Serial.html#inferno.neural.Serial) does so automatically. Any custom layer implementation should create cells along the \"trainable path\"."
   ]
  },
  {
   "cell_type": "code",
   "execution_count": null,
   "metadata": {},
   "outputs": [],
   "source": [
    "trainer = learn.STDP(\n",
    "    step_time=step_time,\n",
    "    lr_post=5e-4,\n",
    "    lr_pre=-5e-6,\n",
    "    tc_post=30.0,\n",
    "    tc_pre=30.0,\n",
    ")"
   ]
  },
  {
   "cell_type": "markdown",
   "metadata": {},
   "source": [
    "If we look at the `STDP` class, we'll see that it inherits from [`IndependentCellTrainer`](https://docs.inferno-ai.dev/en/stable/reference/generated/inferno.learn.IndependentCellTrainer.html#inferno.learn.IndependentCellTrainer), which has some implementation to help with developing classes for training methods where the training of each cell is independent of every other cell. This inherits from [`IndependentCellTrainer`](https://docs.inferno-ai.dev/en/stable/reference/generated/inferno.learn.CellTrainer.html#inferno.learn.CellTrainer), which provides a more limited implementation and should be used for training methods where some dependency between cells does exist.\n",
    "\n",
    "Before we can add the cell in our model to our trainer, we need to make it trainable. This means we need to give the connection in it an [`Updater`](https://docs.inferno-ai.dev/en/stable/reference/generated/inferno.neural.Updater.html#inferno.neural.Updater). The updater is responsible for accumulating and applying updates to the trainable parameters of a connection. The behavior of how updates are applied can then be controlled (more on this in the next section). Here, we'll add the default updater to our connection, then register the cell."
   ]
  },
  {
   "cell_type": "code",
   "execution_count": null,
   "metadata": {},
   "outputs": [],
   "source": [
    "updater = model.feedfwd.connection.defaultupdater()\n",
    "model.feedfwd.connection.updater = updater\n",
    "\n",
    "trainer.register_cell(\"feedfwd\", model.feedfwd.cell)\n",
    "trainer.to(device=device)"
   ]
  },
  {
   "cell_type": "markdown",
   "metadata": {},
   "source": [
    "We've already specified that the weights should be normalized, but we also want to specify that they stay within a certain range. The simplest way of doing this is by clamping (also called clipping) the values within a range. This can also be done with [parameter dependence](https://docs.inferno-ai.dev/en/stable/guide/concepts.html#parameter-dependence). For this example, the lower bound will be clamped, and the upper bound will be enforced with multiplicative parameter dependence.\n",
    "\n",
    "Clamping the weights are done in much the same way as normalizing them, except this time we want it to trigger after each call of the updater. Therefore, we'll register the hook to the updater itself and define the target using the [`parent`](https://docs.inferno-ai.dev/en/stable/reference/generated/inferno.neural.Updater.html#inferno.neural.Updater.parent) property."
   ]
  },
  {
   "cell_type": "code",
   "execution_count": null,
   "metadata": {},
   "outputs": [],
   "source": [
    "clamp_hook = neural.Clamping(\n",
    "    updater,\n",
    "    \"parent.weight\",\n",
    "    min=0.0,\n",
    ")\n",
    "clamp_hook.register()"
   ]
  },
  {
   "cell_type": "markdown",
   "metadata": {},
   "source": [
    "Adding parameter dependence is done by accessing the [`Accumulator`](https://docs.inferno-ai.dev/en/stable/reference/generated/inferno.neural.Accumulator.html#inferno.neural.Accumulator) for the associated parameter. To only bound the upper limit, [`upperbound`](https://docs.inferno-ai.dev/en/stable/reference/generated/inferno.neural.Accumulator.html#inferno.neural.Accumulator.upperbound) is called and a function which follows the [`HalfBounding`](https://docs.inferno-ai.dev/en/stable/reference/generated/inferno.functional.HalfBounding.html#inferno.functional.HalfBounding) protocol."
   ]
  },
  {
   "cell_type": "code",
   "execution_count": null,
   "metadata": {},
   "outputs": [],
   "source": [
    "updater.weight.upperbound(\n",
    "    functional.bound_upper_multiplicative,\n",
    "    1.0,\n",
    ")"
   ]
  },
  {
   "cell_type": "markdown",
   "metadata": {},
   "source": [
    "It is important to note that STDP is an _unsupervised_ training method, but we're using it for a classification task. To this end, we'll need a classifier. In this case, we're using [`MaxRateClassifier`](https://docs.inferno-ai.dev/en/stable/reference/generated/inferno.learn.MaxRateClassifier.html#inferno.learn.MaxRateClassifier). It will assign each neuron a label corresponding to the class for which it fired most frequently."
   ]
  },
  {
   "cell_type": "code",
   "execution_count": null,
   "metadata": {},
   "outputs": [],
   "source": [
    "classifier = learn.MaxRateClassifier(\n",
    "    shape,\n",
    "    num_classes=10,\n",
    "    decay=1e-6,\n",
    ")\n",
    "classifier.to(device=device)"
   ]
  },
  {
   "cell_type": "markdown",
   "metadata": {},
   "source": [
    "## Training/Testing Loop\n",
    "\n",
    "Spiking neural networks require that we convert the real-valued data we normally work with into _spike trains_, a sequence of zeros and ones representing if a spike occurred at a given time step. Inferno represents these as boolean tensors, typically where samples over the first dimension indicate the spikes at each time step. Most commonly this is done by representing spike generation as a Poisson point process. The intervals between spikes follow an exponential distribution with a mean equal to the expected frequency. More on Poisson spike generation can be found in this [excellent write-up](https://github.com/btel/python-in-neuroscience-tutorials/blob/master/poisson_process.ipynb)."
   ]
  },
  {
   "cell_type": "code",
   "execution_count": null,
   "metadata": {},
   "outputs": [],
   "source": [
    "encoder = neural.HomogeneousPoissonEncoder(\n",
    "    250,\n",
    "    step_time,\n",
    "    frequency=128.0,\n",
    ")"
   ]
  },
  {
   "cell_type": "markdown",
   "metadata": {},
   "source": [
    "As previously mentioned, the convention in Inferno is for encoders to take inputs scaled between zero and one. Here, the frequency (in Hertz) is a linear scaling factor for determining the expected spike rate for a given input.\n",
    "\n",
    "We can then write the functions for the training/testing loop. Note that the classifier isn't updated every batch, but in this case every tenth batch."
   ]
  },
  {
   "cell_type": "code",
   "execution_count": null,
   "metadata": {},
   "outputs": [],
   "source": [
    "classify_interval = 10\n",
    "train_cutoff = 2000\n",
    "\n",
    "def train(data, encoder, model, trainer, classifier):\n",
    "    size = len(data.dataset)\n",
    "    rates, labels = [], []\n",
    "    correct, current = 0, 0\n",
    "\n",
    "    for batch, (X, y) in enumerate(data, start=1):\n",
    "        X, y = X.to(device=device), y.to(device=device)\n",
    "\n",
    "        rates.append(model(encoder(X), trainer).float().mean(dim=0))\n",
    "        labels.append(y)\n",
    "\n",
    "        if batch % classify_interval == 0:\n",
    "            rates = torch.cat(rates, dim=0)\n",
    "            labels = torch.cat(labels, dim=0)\n",
    "\n",
    "            pred = classifier(rates, labels)\n",
    "            nc = (pred == labels).sum().item()\n",
    "            correct += nc\n",
    "            current += rates.size(0)\n",
    "\n",
    "            print(f\"acc: {(nc / rates.size(0)):.4f} [{current:>5d}/{size:>5d}]\")\n",
    "            rates, labels = [], []\n",
    "\n",
    "        if train_cutoff is not None and current >= train_cutoff:\n",
    "            break\n",
    "\n",
    "    print(f\"Training Accuracy:\\n    {(correct / current):.4f}\")"
   ]
  },
  {
   "cell_type": "markdown",
   "metadata": {},
   "source": [
    "The function for testing is very similar, except it excludes the trainer as it won't be updated. The classifier is still passed in for computing the prediction accuracy. Unlike in the training function, the true labels aren't given to the classifier, and therefore it will only infer."
   ]
  },
  {
   "cell_type": "code",
   "execution_count": null,
   "metadata": {},
   "outputs": [],
   "source": [
    "test_cutoff = None\n",
    "\n",
    "def test(data, encoder, model, classifier):\n",
    "    correct, current = 0, 0\n",
    "\n",
    "    for batch, (X, y) in enumerate(data, start=1):\n",
    "        X, y = X.to(device=device), y.to(device=device)\n",
    "\n",
    "        rates = model(encoder(X), None).float().mean(dim=0)\n",
    "        pred = classifier(rates, None)\n",
    "\n",
    "        correct += (pred == y).sum().item()\n",
    "        current += rates.size(0)\n",
    "\n",
    "        if test_cutoff is not None and current >= test_cutoff:\n",
    "            break\n",
    "\n",
    "    print(f\"Testing Accuracy:\\n    {(correct / current):.4f}\\n\")"
   ]
  },
  {
   "cell_type": "markdown",
   "metadata": {},
   "source": [
    "For the main loop, we need to set both the model and the trainer into the correct `training` mode. This will manage the hook triggers. When the trainer is set into evaluation mode, it will also deregister any hooks it creates in order to avoid runtime tests of the `training` mode."
   ]
  },
  {
   "cell_type": "code",
   "execution_count": null,
   "metadata": {},
   "outputs": [],
   "source": [
    "epochs = 1\n",
    "\n",
    "with torch.no_grad():\n",
    "    for epoch in range(epochs):\n",
    "        print(f\"Epoch {epoch + 1}\\n-------------------------\")\n",
    "        model.train(), trainer.train()\n",
    "        train(train_data, encoder, model, trainer, classifier)\n",
    "        model.eval(), trainer.eval()\n",
    "        test(test_data, encoder, model, classifier)\n",
    "    print(\"Completed\")"
   ]
  }
 ],
 "metadata": {
  "kernelspec": {
   "display_name": "infernodev",
   "language": "python",
   "name": "python3"
  },
  "language_info": {
   "codemirror_mode": {
    "name": "ipython",
    "version": 3
   },
   "file_extension": ".py",
   "mimetype": "text/x-python",
   "name": "python",
   "nbconvert_exporter": "python",
   "pygments_lexer": "ipython3",
   "version": "3.11.9"
  }
 },
 "nbformat": 4,
 "nbformat_minor": 2
}
